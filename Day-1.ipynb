{
 "cells": [
  {
   "cell_type": "code",
   "execution_count": 2,
   "id": "facdf691",
   "metadata": {},
   "outputs": [
    {
     "name": "stdout",
     "output_type": "stream",
     "text": [
      "Hello world!\n"
     ]
    }
   ],
   "source": [
    "print('Hello world!')"
   ]
  },
  {
   "cell_type": "code",
   "execution_count": 2,
   "id": "e8c25bad",
   "metadata": {},
   "outputs": [
    {
     "name": "stdout",
     "output_type": "stream",
     "text": [
      "Hello World\n"
     ]
    }
   ],
   "source": [
    "print( 'Hello' +\" \" + \"World\")"
   ]
  },
  {
   "cell_type": "code",
   "execution_count": null,
   "id": "cbb0cab0",
   "metadata": {},
   "outputs": [],
   "source": [
    "input(\"what is your name?\")"
   ]
  },
  {
   "cell_type": "code",
   "execution_count": 2,
   "id": "c79f114f",
   "metadata": {},
   "outputs": [
    {
     "name": "stdout",
     "output_type": "stream",
     "text": [
      "what is your name?Praveen\n",
      "HelloPraveen\n"
     ]
    }
   ],
   "source": [
    "print(\"Hello\" + input( \"what is your name?\"))"
   ]
  },
  {
   "cell_type": "code",
   "execution_count": 3,
   "id": "11ae4895",
   "metadata": {},
   "outputs": [
    {
     "name": "stdout",
     "output_type": "stream",
     "text": [
      "7\n"
     ]
    }
   ],
   "source": [
    "print(len('Praveen'))"
   ]
  },
  {
   "cell_type": "code",
   "execution_count": 10,
   "id": "5ded810f",
   "metadata": {},
   "outputs": [
    {
     "name": "stdout",
     "output_type": "stream",
     "text": [
      "A10\n"
     ]
    }
   ],
   "source": [
    "a= input(A)"
   ]
  },
  {
   "cell_type": "code",
   "execution_count": 11,
   "id": "834560d0",
   "metadata": {},
   "outputs": [
    {
     "data": {
      "text/plain": [
       "'10'"
      ]
     },
     "execution_count": 11,
     "metadata": {},
     "output_type": "execute_result"
    }
   ],
   "source": [
    "a"
   ]
  },
  {
   "cell_type": "code",
   "execution_count": 21,
   "id": "80f7ca9d",
   "metadata": {},
   "outputs": [
    {
     "name": "stdout",
     "output_type": "stream",
     "text": [
      "20\n"
     ]
    }
   ],
   "source": [
    "b = input()\n",
    "c = 0"
   ]
  },
  {
   "cell_type": "code",
   "execution_count": 28,
   "id": "a0fd3a09",
   "metadata": {},
   "outputs": [
    {
     "name": "stdout",
     "output_type": "stream",
     "text": [
      "what's the name of your city?mumbai\n"
     ]
    }
   ],
   "source": [
    "I = input(\"what's the name of your city?\")"
   ]
  },
  {
   "cell_type": "code",
   "execution_count": 30,
   "id": "c0f2d584",
   "metadata": {},
   "outputs": [
    {
     "name": "stdout",
     "output_type": "stream",
     "text": [
      "What's your pet name?Billa\n"
     ]
    }
   ],
   "source": [
    "j = input(\"What's your pet name?\")"
   ]
  },
  {
   "cell_type": "code",
   "execution_count": 36,
   "id": "22bc1e68",
   "metadata": {},
   "outputs": [
    {
     "name": "stdout",
     "output_type": "stream",
     "text": [
      "Your band name is mumbai Billa\n"
     ]
    }
   ],
   "source": [
    "print(f'Your band name is {I} {j}')"
   ]
  },
  {
   "cell_type": "code",
   "execution_count": 40,
   "id": "8b499209",
   "metadata": {},
   "outputs": [
    {
     "name": "stdout",
     "output_type": "stream",
     "text": [
      "your band name is mumbai Billa\n"
     ]
    }
   ],
   "source": [
    "print(\"your band name is \"+ I + \" \" + j )"
   ]
  },
  {
   "cell_type": "code",
   "execution_count": 47,
   "id": "da753c4e",
   "metadata": {},
   "outputs": [
    {
     "name": "stdout",
     "output_type": "stream",
     "text": [
      "Do you wnat to go to left or right (l,r)l\n"
     ]
    }
   ],
   "source": [
    "direction = input(\"Do you wnat to go to left or right (l,r)\").lower()\n",
    "\n"
   ]
  },
  {
   "cell_type": "code",
   "execution_count": 48,
   "id": "17d09d4d",
   "metadata": {},
   "outputs": [
    {
     "data": {
      "text/plain": [
       "str"
      ]
     },
     "execution_count": 48,
     "metadata": {},
     "output_type": "execute_result"
    }
   ],
   "source": [
    "type(direction)"
   ]
  },
  {
   "cell_type": "code",
   "execution_count": 42,
   "id": "f68823e5",
   "metadata": {},
   "outputs": [
    {
     "data": {
      "text/plain": [
       "builtin_function_or_method"
      ]
     },
     "execution_count": 42,
     "metadata": {},
     "output_type": "execute_result"
    }
   ],
   "source": [
    "type(direction)"
   ]
  },
  {
   "cell_type": "code",
   "execution_count": null,
   "id": "49854951",
   "metadata": {},
   "outputs": [],
   "source": []
  },
  {
   "cell_type": "code",
   "execution_count": null,
   "id": "e529e336",
   "metadata": {},
   "outputs": [],
   "source": [
    "if direction == 'r':\n",
    "    print(\"you are hit by ant, you are killed, Gavme over!\") \n",
    "swim = input('to go to next level Do you want to swim or wait for crocodile to pickup?(swim,wait):').lower\n",
    "if swim == 'swim':\n",
    "    print('you are killed by goald fish, game over!')\n",
    "\n"
   ]
  },
  {
   "cell_type": "code",
   "execution_count": null,
   "id": "e2a87a41",
   "metadata": {},
   "outputs": [],
   "source": []
  },
  {
   "cell_type": "code",
   "execution_count": null,
   "id": "cb5d6a0a",
   "metadata": {},
   "outputs": [],
   "source": []
  },
  {
   "cell_type": "code",
   "execution_count": null,
   "id": "6d512bb4",
   "metadata": {},
   "outputs": [],
   "source": []
  },
  {
   "cell_type": "code",
   "execution_count": null,
   "id": "6eb322af",
   "metadata": {},
   "outputs": [],
   "source": []
  }
 ],
 "metadata": {
  "kernelspec": {
   "display_name": "Python 3 (ipykernel)",
   "language": "python",
   "name": "python3"
  },
  "language_info": {
   "codemirror_mode": {
    "name": "ipython",
    "version": 3
   },
   "file_extension": ".py",
   "mimetype": "text/x-python",
   "name": "python",
   "nbconvert_exporter": "python",
   "pygments_lexer": "ipython3",
   "version": "3.9.7"
  }
 },
 "nbformat": 4,
 "nbformat_minor": 5
}
